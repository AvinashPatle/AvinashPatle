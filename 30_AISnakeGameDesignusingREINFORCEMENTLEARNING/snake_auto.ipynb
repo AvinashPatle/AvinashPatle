{
 "cells": [
  {
   "cell_type": "code",
   "execution_count": 3,
   "metadata": {},
   "outputs": [
    {
     "name": "stdout",
     "output_type": "stream",
     "text": [
      "Solver: GreedySolver \n",
      "Mode: GameMode.NORMAL\n"
     ]
    }
   ],
   "source": [
    "from codecs import ignore_errors\n",
    "from snake.game import Game, GameConf, GameMode\n",
    "ignore_errors\n",
    "\n",
    "greedy = \"GreedySolver\"\n",
    "hamilton = \"HamiltonSolver\"\n",
    "\n",
    "normal = GameMode.NORMAL\n",
    "\n",
    "\n",
    "conf = GameConf()\n",
    "conf.solver_name = greedy\n",
    "conf.mode = normal\n",
    "print(\"Solver: %s \" % (conf.solver_name))\n",
    "print(\"Mode: %s\" %(conf.mode))\n",
    "Game(conf).run()"
   ]
  },
  {
   "cell_type": "code",
   "execution_count": null,
   "metadata": {},
   "outputs": [],
   "source": []
  }
 ],
 "metadata": {
  "kernelspec": {
   "display_name": "Python 3.7.3 ('base')",
   "language": "python",
   "name": "python3"
  },
  "language_info": {
   "codemirror_mode": {
    "name": "ipython",
    "version": 3
   },
   "file_extension": ".py",
   "mimetype": "text/x-python",
   "name": "python",
   "nbconvert_exporter": "python",
   "pygments_lexer": "ipython3",
   "version": "3.7.3"
  },
  "orig_nbformat": 4,
  "vscode": {
   "interpreter": {
    "hash": "9aa2f578b94e228cd08628b208d2067f69006bd03c229b72d067a9d40bb4423a"
   }
  }
 },
 "nbformat": 4,
 "nbformat_minor": 2
}
