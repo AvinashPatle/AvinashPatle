{
 "cells": [
  {
   "cell_type": "code",
   "execution_count": 1,
   "metadata": {},
   "outputs": [
    {
     "name": "stdout",
     "output_type": "stream",
     "text": [
      "pygame 2.1.2 (SDL 2.0.18, Python 3.7.3)\n",
      "Hello from the pygame community. https://www.pygame.org/contribute.html\n"
     ]
    }
   ],
   "source": [
    "import pygame, random, sys\n",
    "from pygame.locals import *"
   ]
  },
  {
   "cell_type": "code",
   "execution_count": 2,
   "metadata": {},
   "outputs": [],
   "source": [
    "def collide(x1, x2, y1, y2, w1, w2, h1, h2):\n",
    "    if x1+w1>x2 and x1<x2+w2 and y1+h1>y2 and y1<y2+h2:\n",
    "        return True\n",
    "    else:\n",
    "        return False"
   ]
  },
  {
   "cell_type": "code",
   "execution_count": 3,
   "metadata": {},
   "outputs": [],
   "source": [
    "def die(screen, score):\n",
    "\tf=pygame.font.SysFont('Arial', 30);t=f.render('Your score was: '+str(score), True, (0, 0, 0));screen.blit(t, (10, 270));pygame.display.update();pygame.time.wait(2000);sys.exit(0)"
   ]
  },
  {
   "cell_type": "code",
   "execution_count": 4,
   "metadata": {},
   "outputs": [],
   "source": [
    "xs = [290, 290, 290, 290, 290];ys = [290, 270, 250, 230, 210];dirs = 0;score = 0;\n",
    "applepos = (random.randint(0, 590), random.randint(0, 590));\n",
    "pygame.init();"
   ]
  },
  {
   "cell_type": "code",
   "execution_count": 5,
   "metadata": {},
   "outputs": [
    {
     "name": "stdout",
     "output_type": "stream",
     "text": [
      "[290, 290, 290, 290, 290] [290, 270, 250, 230, 210]\n"
     ]
    },
    {
     "ename": "SystemExit",
     "evalue": "0",
     "output_type": "error",
     "traceback": [
      "An exception has occurred, use %tb to see the full traceback.\n",
      "\u001b[1;31mSystemExit\u001b[0m\u001b[1;31m:\u001b[0m 0\n"
     ]
    },
    {
     "name": "stderr",
     "output_type": "stream",
     "text": [
      "c:\\Users\\Avi\\Anaconda3\\lib\\site-packages\\IPython\\core\\interactiveshell.py:3333: UserWarning: To exit: use 'exit', 'quit', or Ctrl-D.\n",
      "  warn(\"To exit: use 'exit', 'quit', or Ctrl-D.\", stacklevel=1)\n"
     ]
    },
    {
     "ename": "",
     "evalue": "",
     "output_type": "error",
     "traceback": [
      "\u001b[1;31mThe Kernel crashed while executing code in the the current cell or a previous cell. Please review the code in the cell(s) to identify a possible cause of the failure. Click <a href='https://aka.ms/vscodeJupyterKernelCrash'>here</a> for more info. View Jupyter <a href='command:jupyter.viewOutput'>log</a> for further details."
     ]
    }
   ],
   "source": [
    "s=pygame.display.set_mode((1000, 900));\n",
    "pygame.display.set_caption('Snake');\n",
    "appleimage = pygame.Surface((10, 10));\n",
    "appleimage.fill((0, 255, 0));\n",
    "img = pygame.Surface((20, 20));\n",
    "img.fill((255, 0, 0));\n",
    "f = pygame.font.SysFont('Arial', 20);\n",
    "clock = pygame.time.Clock()\n",
    "while True:\n",
    "\tclock.tick(10)\n",
    "\tfor e in pygame.event.get():\n",
    "\t\tif e.type == QUIT:\n",
    "\t\t\tsys.exit(0)\n",
    "\t\telif e.type == KEYDOWN:\n",
    "\t\t\tif e.key == K_UP and dirs != 0:dirs = 2\n",
    "\t\t\telif e.key == K_DOWN and dirs != 2:dirs = 0\n",
    "\t\t\telif e.key == K_LEFT and dirs != 1:dirs = 3\n",
    "\t\t\telif e.key == K_RIGHT and dirs != 3:dirs = 1\n",
    "\ti = len(xs)-1\n",
    "\twhile i >= 2:\n",
    "\t\tif collide(xs[0], xs[i], ys[0], ys[i], 20, 20, 20, 20):\n",
    "\t\t\tdie(s, score)\n",
    "\t\ti-= 1\n",
    "\tif collide(xs[0], applepos[0], ys[0], applepos[1], 20, 10, 20, 10):\n",
    "\t\tscore+=1;\n",
    "\t\txs.append(700);\n",
    "\t\tys.append(700);\n",
    "\t\tapplepos=(random.randint(0,590),random.randint(0,590))\n",
    "\tprint(xs,ys)\n",
    "      \n",
    "\tif xs[0] < 0 or xs[0] > 580 or ys[0] < 0 or ys[0] > 580:\n",
    "\t\tdie(s, score)\n",
    "\ti = len(xs)-1\n",
    "\twhile i >= 1:\n",
    "\t\txs[i] = xs[i-1];ys[i] = ys[i-1];i -= 1\n",
    "\tif dirs==0:ys[0] += 20\n",
    "\telif dirs==1:xs[0] += 20\n",
    "\telif dirs==2:ys[0] -= 20\n",
    "\telif dirs==3:xs[0] -= 20\t\n",
    "\ts.fill((255, 255, 255))\t\n",
    "\tfor i in range(0, len(xs)):\n",
    "\t\ts.blit(img, (xs[i], ys[i]))\n",
    "\ts.blit(appleimage, applepos);t=f.render(str(score), True, (0, 0, 0));s.blit(t, (10, 10));pygame.display.update()\n"
   ]
  }
 ],
 "metadata": {
  "kernelspec": {
   "display_name": "Python 3.7.3 ('base')",
   "language": "python",
   "name": "python3"
  },
  "language_info": {
   "codemirror_mode": {
    "name": "ipython",
    "version": 3
   },
   "file_extension": ".py",
   "mimetype": "text/x-python",
   "name": "python",
   "nbconvert_exporter": "python",
   "pygments_lexer": "ipython3",
   "version": "3.7.3"
  },
  "orig_nbformat": 4,
  "vscode": {
   "interpreter": {
    "hash": "9aa2f578b94e228cd08628b208d2067f69006bd03c229b72d067a9d40bb4423a"
   }
  }
 },
 "nbformat": 4,
 "nbformat_minor": 2
}
