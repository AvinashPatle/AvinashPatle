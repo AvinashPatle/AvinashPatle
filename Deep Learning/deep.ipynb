{
 "cells": [
  {
   "cell_type": "code",
   "execution_count": null,
   "metadata": {},
   "outputs": [],
   "source": []
  }
 ],
 "metadata": {
  "kernelspec": {
   "display_name": "Python 3.7.3 ('base')",
   "language": "python",
   "name": "python3"
  },
  "language_info": {
   "name": "python",
   "version": "3.7.3"
  },
  "orig_nbformat": 4,
  "vscode": {
   "interpreter": {
    "hash": "9aa2f578b94e228cd08628b208d2067f69006bd03c229b72d067a9d40bb4423a"
   }
  }
 },
 "nbformat": 4,
 "nbformat_minor": 2
}
